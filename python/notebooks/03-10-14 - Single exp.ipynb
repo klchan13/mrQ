{
 "metadata": {
  "name": ""
 },
 "nbformat": 3,
 "nbformat_minor": 0,
 "worksheets": [
  {
   "cells": [
    {
     "cell_type": "code",
     "collapsed": false,
     "input": [
      "import numpy.random as rand\n",
      "from scipy.optimize import leastsq\n",
      "import numpy as np"
     ],
     "language": "python",
     "metadata": {},
     "outputs": [],
     "prompt_number": 3
    },
    {
     "cell_type": "code",
     "collapsed": false,
     "input": [
      "CoilGain = 1000"
     ],
     "language": "python",
     "metadata": {},
     "outputs": [],
     "prompt_number": 2
    },
    {
     "cell_type": "code",
     "collapsed": false,
     "input": [
      "def simSPGRs(R1, CoilGain=1000, PD=1, B1=None, flipAngles=[4,10,20,30],tr=20, noiseLevel=0, plotFlag=0):\n",
      "    cg_shape = np.shape(CoilGain)\n",
      "    if cg_shape:\n",
      "        nCoils  = cg_shape[1]\n",
      "        nVoxels = cg_shape[0]\n",
      "    else:\n",
      "        nCoils = 1\n",
      "        nVoxels = 1\n",
      "        \n",
      "    if B1 is None:\n",
      "        B1 = np.ones((nVoxels, 1))\n",
      "    \n",
      "    #Define PD\n",
      "    if PD is None:\n",
      "        PD = np.ones((nVoxels,1))\n",
      "    \n",
      "    if type(PD) is str:\n",
      "        PD = mrvParamFormat(in_str)\n",
      "        [PD, R11]=mrQ_simulate_PD(PD,nVoxels)\n",
      "    \n",
      "    return OutputSim"
     ],
     "language": "python",
     "metadata": {},
     "outputs": [],
     "prompt_number": 3
    },
    {
     "cell_type": "code",
     "collapsed": false,
     "input": [
      "def mrvParamFormat(in_str):\n",
      "    if type(in_str) is not str:\n",
      "        e = \"%s has to be a string.\"%in_str\n",
      "        raise TypeError(e)\n",
      "    \n",
      "    # Lower case\n",
      "    lc_str = in_str.lower()\n",
      "    \n",
      "    # Remove spaces\n",
      "    str_formatted = lc_str.replace(' ','')\n",
      "    \n",
      "    return str_formatted"
     ],
     "language": "python",
     "metadata": {},
     "outputs": [],
     "prompt_number": 4
    },
    {
     "cell_type": "code",
     "collapsed": false,
     "input": [
      "ceil?"
     ],
     "language": "python",
     "metadata": {},
     "outputs": [],
     "prompt_number": 5
    },
    {
     "cell_type": "code",
     "collapsed": false,
     "input": [
      "rand.permutation(1)[0]"
     ],
     "language": "python",
     "metadata": {},
     "outputs": [
      {
       "metadata": {},
       "output_type": "pyout",
       "prompt_number": 6,
       "text": [
        "0"
       ]
      }
     ],
     "prompt_number": 6
    },
    {
     "cell_type": "code",
     "collapsed": false,
     "input": [
      "loc = rand.permutation(nVoxels)\n",
      "jump= round(nVoxels/3.)\n",
      "\n",
      "# Start with R1 units in 1/sec\n",
      "loc1=np.arange(jump)"
     ],
     "language": "python",
     "metadata": {},
     "outputs": [
      {
       "ename": "NameError",
       "evalue": "name 'nVoxels' is not defined",
       "output_type": "pyerr",
       "traceback": [
        "\u001b[1;31m---------------------------------------------------------------------------\u001b[0m\n\u001b[1;31mNameError\u001b[0m                                 Traceback (most recent call last)",
        "\u001b[1;32m<ipython-input-7-cb82324a2daf>\u001b[0m in \u001b[0;36m<module>\u001b[1;34m()\u001b[0m\n\u001b[1;32m----> 1\u001b[1;33m \u001b[0mloc\u001b[0m \u001b[1;33m=\u001b[0m \u001b[0mrand\u001b[0m\u001b[1;33m.\u001b[0m\u001b[0mpermutation\u001b[0m\u001b[1;33m(\u001b[0m\u001b[0mnVoxels\u001b[0m\u001b[1;33m)\u001b[0m\u001b[1;33m\u001b[0m\u001b[0m\n\u001b[0m\u001b[0;32m      2\u001b[0m \u001b[0mjump\u001b[0m\u001b[1;33m=\u001b[0m \u001b[0mround\u001b[0m\u001b[1;33m(\u001b[0m\u001b[0mnVoxels\u001b[0m\u001b[1;33m/\u001b[0m\u001b[1;36m3.\u001b[0m\u001b[1;33m)\u001b[0m\u001b[1;33m\u001b[0m\u001b[0m\n\u001b[0;32m      3\u001b[0m \u001b[1;33m\u001b[0m\u001b[0m\n\u001b[0;32m      4\u001b[0m \u001b[1;31m# Start with R1 units in 1/sec\u001b[0m\u001b[1;33m\u001b[0m\u001b[1;33m\u001b[0m\u001b[0m\n\u001b[0;32m      5\u001b[0m \u001b[0mloc1\u001b[0m\u001b[1;33m=\u001b[0m\u001b[0mnp\u001b[0m\u001b[1;33m.\u001b[0m\u001b[0marange\u001b[0m\u001b[1;33m(\u001b[0m\u001b[0mjump\u001b[0m\u001b[1;33m)\u001b[0m\u001b[1;33m\u001b[0m\u001b[0m\n",
        "\u001b[1;31mNameError\u001b[0m: name 'nVoxels' is not defined"
       ]
      }
     ],
     "prompt_number": 7
    },
    {
     "cell_type": "code",
     "collapsed": false,
     "input": [
      "np.squeeze(np.shape(loc1)) == 0"
     ],
     "language": "python",
     "metadata": {},
     "outputs": []
    },
    {
     "cell_type": "code",
     "collapsed": false,
     "input": [
      "PD = np.zeros((3,3,3))"
     ],
     "language": "python",
     "metadata": {},
     "outputs": []
    },
    {
     "cell_type": "code",
     "collapsed": false,
     "input": [
      "np.ravel(PD)"
     ],
     "language": "python",
     "metadata": {},
     "outputs": [
      {
       "ename": "NameError",
       "evalue": "name 'PD' is not defined",
       "output_type": "pyerr",
       "traceback": [
        "\u001b[1;31m---------------------------------------------------------------------------\u001b[0m\n\u001b[1;31mNameError\u001b[0m                                 Traceback (most recent call last)",
        "\u001b[1;32m<ipython-input-8-aa54cba23e62>\u001b[0m in \u001b[0;36m<module>\u001b[1;34m()\u001b[0m\n\u001b[1;32m----> 1\u001b[1;33m \u001b[0mnp\u001b[0m\u001b[1;33m.\u001b[0m\u001b[0mravel\u001b[0m\u001b[1;33m(\u001b[0m\u001b[0mPD\u001b[0m\u001b[1;33m)\u001b[0m\u001b[1;33m\u001b[0m\u001b[0m\n\u001b[0m",
        "\u001b[1;31mNameError\u001b[0m: name 'PD' is not defined"
       ]
      }
     ],
     "prompt_number": 8
    },
    {
     "cell_type": "code",
     "collapsed": false,
     "input": [
      "def mrQ_simulate_PD(PDtype,nVoxels):\n",
      "    # Initialize the parameters\n",
      "    Tissuemask=[]\n",
      "    #The edge size of the box\n",
      "    eSize = round(nVoxels**(1./3))\n",
      "    \n",
      "    #Center position\n",
      "    cPos = round(eSize/2.)\n",
      "    \n",
      "    #This is the parameter we have been using to specify the box size\n",
      "    nSamples=(eSize-1)/2.\n",
      "    \n",
      "    PDtype = mrvParamFormat(PDtype)\n",
      "    \n",
      "    if (PDtype == 'phantom') | (PDtype == '0'):\n",
      "        # Uniform\n",
      "        PD = np.ones((nVoxels,1))\n",
      "        R1 = PD*1.75\n",
      "        R1 = R1/1000\n",
      "        PD = np.ravel(PD) # Same as PD(:) in MATLAB\n",
      "    elif (PDtype == 'dots') | (PDtype == '1'):\n",
      "        # BROKEN -- KC: I put this in anyways\n",
      "        PD = np.ones(nVoxels,1)*0.5\n",
      "        PD[np.arange(0, nVoxels, np.ceil(nVoxels/10)-1)] = 1\n",
      "    elif (PDtype == 'highfreq') | (PDtype == '2'):\n",
      "        x = np.linspace(0,pi*10,num = nVoxels)        \n",
      "        PD = abs(np.sin(x))+0.1\n",
      "    elif (PDtype == 'lowfreq') | (PDtype == '3'):\n",
      "        x = np.linspace(0,pi,nVoxels)\n",
      "        PD = np.sin(x) +0.1    \n",
      "    elif (PDtype == 'tissue1') | (PDtype == '4'):\n",
      "        # Tissue properties simulated for gray, white and CSF\n",
      "        PD = np.zeros((eSize,eSize,eSize))\n",
      "        Tissuemask = np.zeros((eSize,eSize,eSize))\n",
      "        \n",
      "        WM = 0.7    # Water fraction in the different tissue types\n",
      "        GM = 0.85\n",
      "        CSF= 0.95\n",
      "        \n",
      "        loc = rand.permutation(nVoxels)\n",
      "        jump= round(nVoxels/3.)\n",
      "        \n",
      "        # Start with R1 units in 1/sec\n",
      "        loc1=np.arange(jump)\n",
      "        if np.squeeze(np.shape(loc1)) != 0:\n",
      "            PD[loc[loc1]]  = WM + 0.1*rand.randn(length(loc1),1)\n",
      "            Tissuemask[loc[loc1]]= 1\n",
      "            R1[loc[loc1]]  = 2.5/PD[loc[loc1]] - 0.95\n",
      "            \n",
      "            loc1=np.arange(jump,2*jump)\n",
      "            PD[loc[loc1]]  = GM+ 0.1*rand.randn(length(loc1),1)\n",
      "            Tissuemask[loc[loc1]]= 2\n",
      "            R1[loc[loc1]]  = 2./PD[loc[loc1]] - 0.9\n",
      "            \n",
      "            loc1=np.arange(2*jump, nVoxels)\n",
      "            PD[loc[loc1]]  = CSF+  0.1*rand.randn(length(loc1),1)\n",
      "            Tissuemask[loc[loc1]]= 3\n",
      "            R1[loc[loc1]]  = (2.9/PD[loc[loc1]])) - 0.99\n",
      "        PD = np.ravel(PD)\n",
      "        R1 = np.ravel(R1)/1000    # Convert units to milliseconds\n",
      "    elif (PDtype == 'tissue2') | (PDtype == '5'):\n",
      "        # Tissue with slight PD slope and deviation in T1-PD relationship\n",
      "        PD = np.zeros(eSize,eSize,eSize)\n",
      "        Tissuemask = np.zeros(eSize,eSize,eSize)\n",
      "        \n",
      "        WM=0.7\n",
      "        GM = 0.85\n",
      "        CSF=0.95\n",
      "        \n",
      "        loc  = rand.permutation(nVoxels)\n",
      "        jump = round(nVoxels/3.)\n",
      "        \n",
      "        if np.squeeze(np.shape(loc1)) != 0:\n",
      "            loc1 = np.arange(jump)\n",
      "            PD[loc[loc1]]   = WM\n",
      "            Tissuemask[loc[loc1]] = 1\n",
      "            R1[loc[loc1]]   = 2.5/PD[loc[loc1]] - 0.95\n",
      "            \n",
      "            loc1=np.arange(jump:2*jump)\n",
      "            PD[loc[loc1]]   = GM\n",
      "            Tissuemask(loc(loc1)) = 2\n",
      "            R1[loc[loc1]]   = 2./PD[loc[loc1]] - 0.9\n",
      "            \n",
      "            loc1=np.arange(2*jump:nVoxels)\n",
      "            PD[loc[loc1]]   = CSF\n",
      "            Tissuemask[loc[loc1]] = 3\n",
      "            R1[loc[loc1]]   = 2.9/PD[loc[loc1]] - 0.99\n",
      "        \n",
      "        # Put a little spatial structure in the PD and break the PD-T1\n",
      "        # relationship a bit\n",
      "        for ii=np.arange(eSize):\n",
      "            PD[...,ii] =PD[...,ii] +  0.1*ii/eSize\n",
      "            \n",
      "        PD  = np.ravel(PD)\n",
      "        R1  = np.ravel(R1)/1000.\n",
      "        \n",
      "    elif (PDtype == 'tissue3') | (PDtype == '6'):\n",
      "        # Spatial pattern in the PD\n",
      "        [X,Y,Z] = np.meshgrid(np.meshgrid(np.arange(-nSamples, nSamples), np.arange(-nSamples, nSamples))\n",
      "        R  = sqrt(X.^2 + Y.^2 + Z.^2);\n",
      "        \n",
      "        # R is the distance from the center.  We make a rectified sinusoid\n",
      "        # from the center to the edge.  We set all the NaN values to 1.  We\n",
      "        # then take the sixth root to squeeze the dynamic range to be\n",
      "        # reasonable.\n",
      "        PD            = sin(R)./R;\n",
      "        PD(isnan(PD) )= 1;\n",
      "        PD = abs(PD);\n",
      "        PD = PD .^ (1/6);\n",
      "    \n",
      "    elif (PDtype == 'singlepoint') | (PDtype == '7'):\n",
      "        # PD = 0.5 everywhere except one point where it is 1\n",
      "        PD = 0.5*ones(nVoxels,1);\n",
      "        PD(sub2ind([eSize,eSize,eSize],cPos,cPos,cPos)) = 1;\n",
      "    elif (PDtype == 'smallregion') | (PDtype == '8'):\n",
      "        # PD = 0.5 except in a small region\n",
      "        PD = 0.5*ones(nVoxels,1);\n",
      "        if eSize<=3\n",
      "            [X,Y,Z]=meshgrid(cPos,cPos-1:cPos+1,cPos);\n",
      "        else\n",
      "            [X,Y,Z]=meshgrid(cPos-1:cPos+1,cPos-1:cPos+1, cPos-1:cPos+1);\n",
      "            \n",
      "        PD(sub2ind([eSize,eSize,eSize],X(:),Y(:),Z(:))) = 1;\n",
      "    \n",
      "    elif (PDtype == 'linearslope') | (PDtype == '9'):\n",
      "        # Linear slope of the PD\n",
      "        PD = zeros(eSize,eSize,eSize);\n",
      "        for ii=1:eSize\n",
      "            PD(:,:,ii) = ii/eSize+0.5;\n",
      "            PD=PD+0.05*rand(size(PD)); # Make the trend strong but not perfect \n",
      "        end\n",
      "        \n",
      "    else:\n",
      "        error('PDtype %s not built',PDtype)\n",
      "\n",
      "    return PD, R1, tissue_mask"
     ],
     "language": "python",
     "metadata": {},
     "outputs": [
      {
       "ename": "SyntaxError",
       "evalue": "invalid syntax (<ipython-input-9-89272217f179>, line 58)",
       "output_type": "pyerr",
       "traceback": [
        "\u001b[1;36m  File \u001b[1;32m\"<ipython-input-9-89272217f179>\"\u001b[1;36m, line \u001b[1;32m58\u001b[0m\n\u001b[1;33m    R1[loc[loc1]]  = (2.9/PD[loc[loc1]])) - 0.99\u001b[0m\n\u001b[1;37m                                        ^\u001b[0m\n\u001b[1;31mSyntaxError\u001b[0m\u001b[1;31m:\u001b[0m invalid syntax\n"
       ]
      }
     ],
     "prompt_number": 9
    },
    {
     "cell_type": "code",
     "collapsed": false,
     "input": [
      "nVoxels = 6\n",
      "eSize = round(nVoxels**(1./3))\n",
      "\n",
      "#Center position\n",
      "cPos = round(eSize/2.)\n",
      "\n",
      "#This is the parameter we have been using to specify the box size\n",
      "nSamples=(eSize-1)/2."
     ],
     "language": "python",
     "metadata": {},
     "outputs": []
    },
    {
     "cell_type": "code",
     "collapsed": false,
     "input": [
      "nSamples"
     ],
     "language": "python",
     "metadata": {},
     "outputs": []
    },
    {
     "cell_type": "code",
     "collapsed": false,
     "input": [
      "np.arange(-nSamples,nSamples)"
     ],
     "language": "python",
     "metadata": {},
     "outputs": [
      {
       "ename": "NameError",
       "evalue": "name 'nSamples' is not defined",
       "output_type": "pyerr",
       "traceback": [
        "\u001b[1;31m---------------------------------------------------------------------------\u001b[0m\n\u001b[1;31mNameError\u001b[0m                                 Traceback (most recent call last)",
        "\u001b[1;32m<ipython-input-10-6dab67d03f02>\u001b[0m in \u001b[0;36m<module>\u001b[1;34m()\u001b[0m\n\u001b[1;32m----> 1\u001b[1;33m \u001b[0mnp\u001b[0m\u001b[1;33m.\u001b[0m\u001b[0marange\u001b[0m\u001b[1;33m(\u001b[0m\u001b[1;33m-\u001b[0m\u001b[0mnSamples\u001b[0m\u001b[1;33m,\u001b[0m\u001b[0mnSamples\u001b[0m\u001b[1;33m)\u001b[0m\u001b[1;33m\u001b[0m\u001b[0m\n\u001b[0m",
        "\u001b[1;31mNameError\u001b[0m: name 'nSamples' is not defined"
       ]
      }
     ],
     "prompt_number": 10
    },
    {
     "cell_type": "code",
     "collapsed": false,
     "input": [
      "[x,y,z]= np.mgrid[-nSamples:nSamples, -nSamples:nSamples, -nSamples:nSamples]\n",
      "\n",
      "# "
     ],
     "language": "python",
     "metadata": {},
     "outputs": [
      {
       "ename": "NameError",
       "evalue": "name 'nSamples' is not defined",
       "output_type": "pyerr",
       "traceback": [
        "\u001b[1;31m---------------------------------------------------------------------------\u001b[0m\n\u001b[1;31mNameError\u001b[0m                                 Traceback (most recent call last)",
        "\u001b[1;32m<ipython-input-11-161384291376>\u001b[0m in \u001b[0;36m<module>\u001b[1;34m()\u001b[0m\n\u001b[1;32m----> 1\u001b[1;33m \u001b[1;33m[\u001b[0m\u001b[0mx\u001b[0m\u001b[1;33m,\u001b[0m\u001b[0my\u001b[0m\u001b[1;33m,\u001b[0m\u001b[0mz\u001b[0m\u001b[1;33m]\u001b[0m\u001b[1;33m=\u001b[0m \u001b[0mnp\u001b[0m\u001b[1;33m.\u001b[0m\u001b[0mmgrid\u001b[0m\u001b[1;33m[\u001b[0m\u001b[1;33m-\u001b[0m\u001b[0mnSamples\u001b[0m\u001b[1;33m:\u001b[0m\u001b[0mnSamples\u001b[0m\u001b[1;33m,\u001b[0m \u001b[1;33m-\u001b[0m\u001b[0mnSamples\u001b[0m\u001b[1;33m:\u001b[0m\u001b[0mnSamples\u001b[0m\u001b[1;33m,\u001b[0m \u001b[1;33m-\u001b[0m\u001b[0mnSamples\u001b[0m\u001b[1;33m:\u001b[0m\u001b[0mnSamples\u001b[0m\u001b[1;33m]\u001b[0m\u001b[1;33m\u001b[0m\u001b[0m\n\u001b[0m\u001b[0;32m      2\u001b[0m \u001b[1;33m\u001b[0m\u001b[0m\n\u001b[0;32m      3\u001b[0m \u001b[1;31m#\u001b[0m\u001b[1;33m\u001b[0m\u001b[1;33m\u001b[0m\u001b[0m\n",
        "\u001b[1;31mNameError\u001b[0m: name 'nSamples' is not defined"
       ]
      }
     ],
     "prompt_number": 11
    },
    {
     "cell_type": "code",
     "collapsed": false,
     "input": [
      "x"
     ],
     "language": "python",
     "metadata": {},
     "outputs": [
      {
       "ename": "NameError",
       "evalue": "name 'x' is not defined",
       "output_type": "pyerr",
       "traceback": [
        "\u001b[1;31m---------------------------------------------------------------------------\u001b[0m\n\u001b[1;31mNameError\u001b[0m                                 Traceback (most recent call last)",
        "\u001b[1;32m<ipython-input-12-401b30e3b8b5>\u001b[0m in \u001b[0;36m<module>\u001b[1;34m()\u001b[0m\n\u001b[1;32m----> 1\u001b[1;33m \u001b[0mx\u001b[0m\u001b[1;33m\u001b[0m\u001b[0m\n\u001b[0m",
        "\u001b[1;31mNameError\u001b[0m: name 'x' is not defined"
       ]
      }
     ],
     "prompt_number": 12
    },
    {
     "cell_type": "code",
     "collapsed": false,
     "input": [
      "xx = np.zeros(x.shape)"
     ],
     "language": "python",
     "metadata": {},
     "outputs": [
      {
       "ename": "NameError",
       "evalue": "name 'x' is not defined",
       "output_type": "pyerr",
       "traceback": [
        "\u001b[1;31m---------------------------------------------------------------------------\u001b[0m\n\u001b[1;31mNameError\u001b[0m                                 Traceback (most recent call last)",
        "\u001b[1;32m<ipython-input-13-fcb1c248735a>\u001b[0m in \u001b[0;36m<module>\u001b[1;34m()\u001b[0m\n\u001b[1;32m----> 1\u001b[1;33m \u001b[0mxx\u001b[0m \u001b[1;33m=\u001b[0m \u001b[0mnp\u001b[0m\u001b[1;33m.\u001b[0m\u001b[0mzeros\u001b[0m\u001b[1;33m(\u001b[0m\u001b[0mx\u001b[0m\u001b[1;33m.\u001b[0m\u001b[0mshape\u001b[0m\u001b[1;33m)\u001b[0m\u001b[1;33m\u001b[0m\u001b[0m\n\u001b[0m",
        "\u001b[1;31mNameError\u001b[0m: name 'x' is not defined"
       ]
      }
     ],
     "prompt_number": 13
    },
    {
     "cell_type": "code",
     "collapsed": false,
     "input": [
      "x[...,1].T"
     ],
     "language": "python",
     "metadata": {},
     "outputs": [
      {
       "ename": "NameError",
       "evalue": "name 'x' is not defined",
       "output_type": "pyerr",
       "traceback": [
        "\u001b[1;31m---------------------------------------------------------------------------\u001b[0m\n\u001b[1;31mNameError\u001b[0m                                 Traceback (most recent call last)",
        "\u001b[1;32m<ipython-input-14-891af843c576>\u001b[0m in \u001b[0;36m<module>\u001b[1;34m()\u001b[0m\n\u001b[1;32m----> 1\u001b[1;33m \u001b[0mx\u001b[0m\u001b[1;33m[\u001b[0m\u001b[1;33m.\u001b[0m\u001b[1;33m.\u001b[0m\u001b[1;33m.\u001b[0m\u001b[1;33m,\u001b[0m\u001b[1;36m1\u001b[0m\u001b[1;33m]\u001b[0m\u001b[1;33m.\u001b[0m\u001b[0mT\u001b[0m\u001b[1;33m\u001b[0m\u001b[0m\n\u001b[0m",
        "\u001b[1;31mNameError\u001b[0m: name 'x' is not defined"
       ]
      }
     ],
     "prompt_number": 14
    },
    {
     "cell_type": "code",
     "collapsed": false,
     "input": [
      "xx[...,0] = x[...,0].T\n",
      "xx[...,1] = x[...,1].T\n",
      "xx[...,2] = x[...,2].T\n",
      "xx[...,3] = x[...,3].T\n",
      "xx[...,4] = x[...,4].T\n",
      "xx[...,5] = x[...,5].T"
     ],
     "language": "python",
     "metadata": {},
     "outputs": [
      {
       "ename": "NameError",
       "evalue": "name 'x' is not defined",
       "output_type": "pyerr",
       "traceback": [
        "\u001b[1;31m---------------------------------------------------------------------------\u001b[0m\n\u001b[1;31mNameError\u001b[0m                                 Traceback (most recent call last)",
        "\u001b[1;32m<ipython-input-15-090cc50fa230>\u001b[0m in \u001b[0;36m<module>\u001b[1;34m()\u001b[0m\n\u001b[1;32m----> 1\u001b[1;33m \u001b[0mxx\u001b[0m\u001b[1;33m[\u001b[0m\u001b[1;33m.\u001b[0m\u001b[1;33m.\u001b[0m\u001b[1;33m.\u001b[0m\u001b[1;33m,\u001b[0m\u001b[1;36m0\u001b[0m\u001b[1;33m]\u001b[0m \u001b[1;33m=\u001b[0m \u001b[0mx\u001b[0m\u001b[1;33m[\u001b[0m\u001b[1;33m.\u001b[0m\u001b[1;33m.\u001b[0m\u001b[1;33m.\u001b[0m\u001b[1;33m,\u001b[0m\u001b[1;36m0\u001b[0m\u001b[1;33m]\u001b[0m\u001b[1;33m.\u001b[0m\u001b[0mT\u001b[0m\u001b[1;33m\u001b[0m\u001b[0m\n\u001b[0m\u001b[0;32m      2\u001b[0m \u001b[0mxx\u001b[0m\u001b[1;33m[\u001b[0m\u001b[1;33m.\u001b[0m\u001b[1;33m.\u001b[0m\u001b[1;33m.\u001b[0m\u001b[1;33m,\u001b[0m\u001b[1;36m1\u001b[0m\u001b[1;33m]\u001b[0m \u001b[1;33m=\u001b[0m \u001b[0mx\u001b[0m\u001b[1;33m[\u001b[0m\u001b[1;33m.\u001b[0m\u001b[1;33m.\u001b[0m\u001b[1;33m.\u001b[0m\u001b[1;33m,\u001b[0m\u001b[1;36m1\u001b[0m\u001b[1;33m]\u001b[0m\u001b[1;33m.\u001b[0m\u001b[0mT\u001b[0m\u001b[1;33m\u001b[0m\u001b[0m\n\u001b[0;32m      3\u001b[0m \u001b[0mxx\u001b[0m\u001b[1;33m[\u001b[0m\u001b[1;33m.\u001b[0m\u001b[1;33m.\u001b[0m\u001b[1;33m.\u001b[0m\u001b[1;33m,\u001b[0m\u001b[1;36m2\u001b[0m\u001b[1;33m]\u001b[0m \u001b[1;33m=\u001b[0m \u001b[0mx\u001b[0m\u001b[1;33m[\u001b[0m\u001b[1;33m.\u001b[0m\u001b[1;33m.\u001b[0m\u001b[1;33m.\u001b[0m\u001b[1;33m,\u001b[0m\u001b[1;36m2\u001b[0m\u001b[1;33m]\u001b[0m\u001b[1;33m.\u001b[0m\u001b[0mT\u001b[0m\u001b[1;33m\u001b[0m\u001b[0m\n\u001b[0;32m      4\u001b[0m \u001b[0mxx\u001b[0m\u001b[1;33m[\u001b[0m\u001b[1;33m.\u001b[0m\u001b[1;33m.\u001b[0m\u001b[1;33m.\u001b[0m\u001b[1;33m,\u001b[0m\u001b[1;36m3\u001b[0m\u001b[1;33m]\u001b[0m \u001b[1;33m=\u001b[0m \u001b[0mx\u001b[0m\u001b[1;33m[\u001b[0m\u001b[1;33m.\u001b[0m\u001b[1;33m.\u001b[0m\u001b[1;33m.\u001b[0m\u001b[1;33m,\u001b[0m\u001b[1;36m3\u001b[0m\u001b[1;33m]\u001b[0m\u001b[1;33m.\u001b[0m\u001b[0mT\u001b[0m\u001b[1;33m\u001b[0m\u001b[0m\n\u001b[0;32m      5\u001b[0m \u001b[0mxx\u001b[0m\u001b[1;33m[\u001b[0m\u001b[1;33m.\u001b[0m\u001b[1;33m.\u001b[0m\u001b[1;33m.\u001b[0m\u001b[1;33m,\u001b[0m\u001b[1;36m4\u001b[0m\u001b[1;33m]\u001b[0m \u001b[1;33m=\u001b[0m \u001b[0mx\u001b[0m\u001b[1;33m[\u001b[0m\u001b[1;33m.\u001b[0m\u001b[1;33m.\u001b[0m\u001b[1;33m.\u001b[0m\u001b[1;33m,\u001b[0m\u001b[1;36m4\u001b[0m\u001b[1;33m]\u001b[0m\u001b[1;33m.\u001b[0m\u001b[0mT\u001b[0m\u001b[1;33m\u001b[0m\u001b[0m\n",
        "\u001b[1;31mNameError\u001b[0m: name 'x' is not defined"
       ]
      }
     ],
     "prompt_number": 15
    },
    {
     "cell_type": "code",
     "collapsed": false,
     "input": [
      "xx[..., 0]"
     ],
     "language": "python",
     "metadata": {},
     "outputs": [
      {
       "ename": "NameError",
       "evalue": "name 'xx' is not defined",
       "output_type": "pyerr",
       "traceback": [
        "\u001b[1;31m---------------------------------------------------------------------------\u001b[0m\n\u001b[1;31mNameError\u001b[0m                                 Traceback (most recent call last)",
        "\u001b[1;32m<ipython-input-16-97d1b72a73a5>\u001b[0m in \u001b[0;36m<module>\u001b[1;34m()\u001b[0m\n\u001b[1;32m----> 1\u001b[1;33m \u001b[0mxx\u001b[0m\u001b[1;33m[\u001b[0m\u001b[1;33m.\u001b[0m\u001b[1;33m.\u001b[0m\u001b[1;33m.\u001b[0m\u001b[1;33m,\u001b[0m \u001b[1;36m0\u001b[0m\u001b[1;33m]\u001b[0m\u001b[1;33m\u001b[0m\u001b[0m\n\u001b[0m",
        "\u001b[1;31mNameError\u001b[0m: name 'xx' is not defined"
       ]
      }
     ],
     "prompt_number": 16
    },
    {
     "cell_type": "code",
     "collapsed": false,
     "input": [
      "np.mgrid[0:5, 0:5]"
     ],
     "language": "python",
     "metadata": {},
     "outputs": [
      {
       "metadata": {},
       "output_type": "pyout",
       "prompt_number": 17,
       "text": [
        "array([[[0, 0, 0, 0, 0],\n",
        "        [1, 1, 1, 1, 1],\n",
        "        [2, 2, 2, 2, 2],\n",
        "        [3, 3, 3, 3, 3],\n",
        "        [4, 4, 4, 4, 4]],\n",
        "\n",
        "       [[0, 1, 2, 3, 4],\n",
        "        [0, 1, 2, 3, 4],\n",
        "        [0, 1, 2, 3, 4],\n",
        "        [0, 1, 2, 3, 4],\n",
        "        [0, 1, 2, 3, 4]]])"
       ]
      }
     ],
     "prompt_number": 17
    },
    {
     "cell_type": "code",
     "collapsed": false,
     "input": [
      "k = 2"
     ],
     "language": "python",
     "metadata": {},
     "outputs": [],
     "prompt_number": 18
    },
    {
     "cell_type": "code",
     "collapsed": false,
     "input": [
      "cg_shape = np.shape(CoilGain)\n",
      "if (k == 2) | (k == 3):\n",
      "    print \"hi\""
     ],
     "language": "python",
     "metadata": {},
     "outputs": [
      {
       "output_type": "stream",
       "stream": "stdout",
       "text": [
        "hi\n"
       ]
      }
     ],
     "prompt_number": 19
    },
    {
     "cell_type": "code",
     "collapsed": false,
     "input": [
      "B1 = None\n",
      "if B1 is None:\n",
      "    TypeError"
     ],
     "language": "python",
     "metadata": {},
     "outputs": [],
     "prompt_number": 20
    },
    {
     "cell_type": "code",
     "collapsed": false,
     "input": [
      "p = \"hello\""
     ],
     "language": "python",
     "metadata": {},
     "outputs": [],
     "prompt_number": 21
    },
    {
     "cell_type": "code",
     "collapsed": false,
     "input": [
      "istype?"
     ],
     "language": "python",
     "metadata": {},
     "outputs": [
      {
       "output_type": "stream",
       "stream": "stdout",
       "text": [
        "Object `istype` not found.\n"
       ]
      }
     ],
     "prompt_number": 22
    },
    {
     "cell_type": "code",
     "collapsed": false,
     "input": [
      "type(p) is str"
     ],
     "language": "python",
     "metadata": {},
     "outputs": [
      {
       "metadata": {},
       "output_type": "pyout",
       "prompt_number": 23,
       "text": [
        "True"
       ]
      }
     ],
     "prompt_number": 23
    },
    {
     "cell_type": "markdown",
     "metadata": {},
     "source": [
      "Redo everything!"
     ]
    },
    {
     "cell_type": "code",
     "collapsed": false,
     "input": [
      "o = np.zeros(3)"
     ],
     "language": "python",
     "metadata": {},
     "outputs": [],
     "prompt_number": 24
    },
    {
     "cell_type": "code",
     "collapsed": false,
     "input": [
      "flipAngles=[4,10,20,30]"
     ],
     "language": "python",
     "metadata": {},
     "outputs": [],
     "prompt_number": 25
    },
    {
     "cell_type": "code",
     "collapsed": false,
     "input": [
      "len(flipAngles)"
     ],
     "language": "python",
     "metadata": {},
     "outputs": [
      {
       "metadata": {},
       "output_type": "pyout",
       "prompt_number": 26,
       "text": [
        "4"
       ]
      }
     ],
     "prompt_number": 26
    },
    {
     "cell_type": "code",
     "collapsed": false,
     "input": [
      "from scipy.optimize import leastsq"
     ],
     "language": "python",
     "metadata": {},
     "outputs": [],
     "prompt_number": 27
    },
    {
     "cell_type": "code",
     "collapsed": false,
     "input": [
      "import numpy.random as rand"
     ],
     "language": "python",
     "metadata": {},
     "outputs": [],
     "prompt_number": 28
    },
    {
     "cell_type": "code",
     "collapsed": false,
     "input": [
      "rand.randn"
     ],
     "language": "python",
     "metadata": {},
     "outputs": [
      {
       "metadata": {},
       "output_type": "pyout",
       "prompt_number": 29,
       "text": [
        "<function randn>"
       ]
      }
     ],
     "prompt_number": 29
    },
    {
     "cell_type": "code",
     "collapsed": false,
     "input": [
      "CoilGain=1000"
     ],
     "language": "python",
     "metadata": {},
     "outputs": [],
     "prompt_number": 30
    },
    {
     "cell_type": "code",
     "collapsed": false,
     "input": [
      "cg = np.array(1000)[..., None]"
     ],
     "language": "python",
     "metadata": {},
     "outputs": [],
     "prompt_number": 31
    },
    {
     "cell_type": "code",
     "collapsed": false,
     "input": [
      "import osmosis.leastsqbound as lsq"
     ],
     "language": "python",
     "metadata": {},
     "outputs": [],
     "prompt_number": 70
    },
    {
     "cell_type": "code",
     "collapsed": false,
     "input": [
      "def sim_SPGRs_single(R1, noiseLevel, CoilGain=1000, PD=1, B1=1, flipAngles=np.array([4,10,20,30]).astype(float),\n",
      "            tr=20):\n",
      "    M0=PD*CoilGain\n",
      "    \n",
      "    if np.shape(CoilGain):\n",
      "        nVoxels = len(CoilGain)\n",
      "    else:\n",
      "        nVoxels = 1\n",
      "    \n",
      "    Sig = np.zeros((nVoxels,len(flipAngles)))   # Sig Noise free\n",
      "    SigN = np.zeros((nVoxels,len(flipAngles)))   # Sig plus gaussian noise\n",
      "    SNR  = np.zeros((1,len(flipAngles)))         # Save out the SNR\n",
      "    \n",
      "    #Simulate:\n",
      "    # the SPGR equation\n",
      "    for jj in np.arange(len(flipAngles)):    \n",
      "        #the effective flip Angles is also depend on B1\n",
      "        fa=flipAngles[jj]*B1    \n",
      "        fa = fa/180.*np.pi    \n",
      "        \n",
      "        Sig[:,jj] =M0*(1-np.exp(-tr*R1))*np.sin(fa)/(1-np.exp(-tr*R1)*np.cos(fa))    \n",
      "        \n",
      "        SNR = 20*np.log10(np.mean(Sig[:,jj])/noiseLevel)  #Coil SNR\n",
      "        # Simulate M0 plus noise: M0SN= M0S + Noise\n",
      "        SigN[:,jj]=  Sig[:,jj] + rand.randn(nVoxels,1)*noiseLevel\n",
      "    \n",
      "    x_fit = np.zeros((nVoxels, 2))\n",
      "    resnorm = np.zeros(nVoxels)\n",
      "    for ii in np.arange(nVoxels):\n",
      "        initial = np.zeros(2)\n",
      "        t1t = linRelaxFitT1(SigN[ii],flipAngles,tr,B1,nVoxels)\n",
      "        M0t=mean(SigN[ii]/((1-exp(-tr/t1t))*sin((flipAngles/180*pi*B1))/\n",
      "                             (1-exp(-tr/t1t)*cos((flipAngles/180*pi*B1)))))\n",
      "        \n",
      "        #Fit\n",
      "        fa = ((flipAngles*B1)/180.)*pi    \n",
      "        initial[0]=t1t\n",
      "        initial[1]=M0t\n",
      "        [x_fit[ii], resnorm[ii]] = leastsq(errT1PD, initial, args=(fa,tr,np.squeeze(SigN),B1), xtol=1e-12)\n",
      "    \n",
      "    M0Fit = x_fit[:, 0]\n",
      "    R1Fit  = 1./x_fit[:, 1]\n",
      "    \n",
      "    outSim = outputSim(M0, M0Fit, SNR, PD, R1, R1Fit, SigN, Sig, tr, flipAngles)\n",
      "    return outSim"
     ],
     "language": "python",
     "metadata": {},
     "outputs": [],
     "prompt_number": 47
    },
    {
     "cell_type": "code",
     "collapsed": false,
     "input": [
      "def linRelaxFitT1(SigN, flipAngles, tr, B1, nVoxels):\n",
      "    \n",
      "    #Linear for one voxel\n",
      "    y = np.squeeze(SigN)/np.sin((flipAngles/180.)*pi*B1).T\n",
      "    x = np.squeeze(SigN)/np.tan((flipAngles/180.)*pi*B1).T\n",
      "    test = np.polyfit(x, y, 1)\n",
      "    slope = test[0]\n",
      "    t1t = np.squeeze(np.array(abs(-tr/np.log(slope))))\n",
      "    \n",
      "    if nVoxels == 1:\n",
      "        t1t = t1t[..., None]\n",
      "    #fit each voxel with lsq non linear fit on the full single equation\n",
      "    \n",
      "    return t1t"
     ],
     "language": "python",
     "metadata": {},
     "outputs": [],
     "prompt_number": 5
    },
    {
     "cell_type": "code",
     "collapsed": false,
     "input": [
      "def errT1PD(x, fa, tr, S, B1):\n",
      "    # Estimate the fit of x(1) PD and x(2) T1 to fit the SPGR T1 data with\n",
      "    # different flip angles.\n",
      "    \n",
      "    #Input:\n",
      "    # x - the fitted parameters\n",
      "    # flipAngles - the scans' flip angles \n",
      "    # tr - the scans' tr\n",
      "    # S - the mesured SPGRs images\n",
      "    # Gain - the coil gain (can be also set to be one and fitted later\n",
      "    # B1 - the exsite inhomogenity (the error in nominal flipangles\n",
      "    # lsq - the kind of error calculation\n",
      "    # SD - a way to normalize the error by the data std.\n",
      "    \n",
      "    #OutPut:\n",
      "    # err -the error between the estimation and the data.\n",
      "    M0 = x[0]\n",
      "    t1 = x[1]\n",
      "    S_fit = M0*(1-np.exp(-tr/t1))*np.sin(fa)/(1-np.exp(-tr/t1)*np.cos(fa))\n",
      "    err=np.sqrt(abs((S-S_fit))) #let fit the median and not the mean that will give less weight to outliers\n",
      "\n",
      "    return err"
     ],
     "language": "python",
     "metadata": {},
     "outputs": [],
     "prompt_number": 6
    },
    {
     "cell_type": "code",
     "collapsed": false,
     "input": [
      "class outputSim:\n",
      "    def __init__(self, M0, M0Fit, SNR, PD, R1, R1Fit, SigN, Sig, tr, flipAngles):\n",
      "        self.M0=M0\n",
      "        self.M0Fit=M0Fit\n",
      "        self.SNR=SNR\n",
      "        self.PD=PD\n",
      "        self.R1=R1\n",
      "        self.R1Fit=R1Fit\n",
      "        self.SigN=SigN\n",
      "        self.Sig=Sig\n",
      "        self.tr=tr\n",
      "        self.flipAngles=flipAngles"
     ],
     "language": "python",
     "metadata": {},
     "outputs": [],
     "prompt_number": 7
    },
    {
     "cell_type": "code",
     "collapsed": false,
     "input": [
      "flipAngles=np.array([4,10,20,30]).astype(float)\n",
      "flipAngles/180*pi*B1"
     ],
     "language": "python",
     "metadata": {},
     "outputs": [
      {
       "ename": "NameError",
       "evalue": "name 'B1' is not defined",
       "output_type": "pyerr",
       "traceback": [
        "\u001b[1;31m---------------------------------------------------------------------------\u001b[0m\n\u001b[1;31mNameError\u001b[0m                                 Traceback (most recent call last)",
        "\u001b[1;32m<ipython-input-8-ef56fb10db66>\u001b[0m in \u001b[0;36m<module>\u001b[1;34m()\u001b[0m\n\u001b[0;32m      1\u001b[0m \u001b[0mflipAngles\u001b[0m\u001b[1;33m=\u001b[0m\u001b[0mnp\u001b[0m\u001b[1;33m.\u001b[0m\u001b[0marray\u001b[0m\u001b[1;33m(\u001b[0m\u001b[1;33m[\u001b[0m\u001b[1;36m4\u001b[0m\u001b[1;33m,\u001b[0m\u001b[1;36m10\u001b[0m\u001b[1;33m,\u001b[0m\u001b[1;36m20\u001b[0m\u001b[1;33m,\u001b[0m\u001b[1;36m30\u001b[0m\u001b[1;33m]\u001b[0m\u001b[1;33m)\u001b[0m\u001b[1;33m.\u001b[0m\u001b[0mastype\u001b[0m\u001b[1;33m(\u001b[0m\u001b[0mfloat\u001b[0m\u001b[1;33m)\u001b[0m\u001b[1;33m\u001b[0m\u001b[0m\n\u001b[1;32m----> 2\u001b[1;33m \u001b[0mflipAngles\u001b[0m\u001b[1;33m/\u001b[0m\u001b[1;36m180\u001b[0m\u001b[1;33m*\u001b[0m\u001b[0mpi\u001b[0m\u001b[1;33m*\u001b[0m\u001b[0mB1\u001b[0m\u001b[1;33m\u001b[0m\u001b[0m\n\u001b[0m",
        "\u001b[1;31mNameError\u001b[0m: name 'B1' is not defined"
       ]
      }
     ],
     "prompt_number": 8
    },
    {
     "cell_type": "code",
     "collapsed": false,
     "input": [
      "import sys\n",
      "sys.path.append(\"/home/klchan13/Source/mrQ/python/\")\n",
      "\n",
      "import t1_sim"
     ],
     "language": "python",
     "metadata": {},
     "outputs": [],
     "prompt_number": 42
    },
    {
     "cell_type": "code",
     "collapsed": false,
     "input": [
      "reload(t1_sim)"
     ],
     "language": "python",
     "metadata": {},
     "outputs": [
      {
       "metadata": {},
       "output_type": "pyout",
       "prompt_number": 48,
       "text": [
        "<module 't1_sim' from 't1_sim.py'>"
       ]
      }
     ],
     "prompt_number": 48
    },
    {
     "cell_type": "code",
     "collapsed": false,
     "input": [
      "out_sim = t1_sim.sim_SPGRs_single(1/1000., 2)"
     ],
     "language": "python",
     "metadata": {},
     "outputs": [],
     "prompt_number": 54
    },
    {
     "cell_type": "code",
     "collapsed": false,
     "input": [
      "out_sim.M0Fit"
     ],
     "language": "python",
     "metadata": {},
     "outputs": [
      {
       "metadata": {},
       "output_type": "pyout",
       "prompt_number": 55,
       "text": [
        "array([ 974.21366933])"
       ]
      }
     ],
     "prompt_number": 55
    },
    {
     "cell_type": "code",
     "collapsed": false,
     "input": [
      "out_sim.R1Fit"
     ],
     "language": "python",
     "metadata": {},
     "outputs": [
      {
       "metadata": {},
       "output_type": "pyout",
       "prompt_number": 56,
       "text": [
        "array([ 0.0010374])"
       ]
      }
     ],
     "prompt_number": 56
    },
    {
     "cell_type": "code",
     "collapsed": false,
     "input": [
      "MR_Sim.R1Fit"
     ],
     "language": "python",
     "metadata": {},
     "outputs": [
      {
       "metadata": {},
       "output_type": "pyout",
       "prompt_number": 14,
       "text": [
        "array([ 0.001])"
       ]
      }
     ],
     "prompt_number": 14
    },
    {
     "cell_type": "code",
     "collapsed": false,
     "input": [
      "cd ~/Source/mrQ/python"
     ],
     "language": "python",
     "metadata": {},
     "outputs": [
      {
       "output_type": "stream",
       "stream": "stdout",
       "text": [
        "/biac4/wandell/users/klchan13/Source/mrQ/python\n"
       ]
      }
     ],
     "prompt_number": 17
    },
    {
     "cell_type": "code",
     "collapsed": false,
     "input": [
      "start_nl = 0\n",
      "end_nl = 20\n",
      "M0_noise = np.arange(start_nl, end_nl).astype(float)\n",
      "R1_noise = np.arange(start_nl, end_nl).astype(float)\n",
      "for nl_idx, nl in enumerate(np.arange(start_nl, end_nl)):\n",
      "    fitted_params = t1_sim.sim_SPGRs_single(1/1000., nl)\n",
      "    M0_noise[nl_idx] = fitted_params.M0Fit\n",
      "    R1_noise[nl_idx] = fitted_params.R1Fit"
     ],
     "language": "python",
     "metadata": {},
     "outputs": [],
     "prompt_number": 64
    },
    {
     "cell_type": "code",
     "collapsed": false,
     "input": [
      "plot(M0_noise)"
     ],
     "language": "python",
     "metadata": {},
     "outputs": [
      {
       "metadata": {},
       "output_type": "pyout",
       "prompt_number": 67,
       "text": [
        "[<matplotlib.lines.Line2D at 0x2df2a50>]"
       ]
      },
      {
       "metadata": {},
       "output_type": "display_data",
       "png": "[encoded data removed]",
       "text": [
        "<matplotlib.figure.Figure at 0x2d22a90>"
       ]
      }
     ],
     "prompt_number": 67
    },
    {
     "cell_type": "code",
     "collapsed": false,
     "input": [
      "plot(R1_noise)"
     ],
     "language": "python",
     "metadata": {},
     "outputs": [
      {
       "metadata": {},
       "output_type": "pyout",
       "prompt_number": 66,
       "text": [
        "[<matplotlib.lines.Line2D at 0x2d6e490>]"
       ]
      },
      {
       "metadata": {},
       "output_type": "display_data",
       "png": "[encoded data removed]",
       "text": [
        "<matplotlib.figure.Figure at 0x2d22790>"
       ]
      }
     ],
     "prompt_number": 66
    },
    {
     "cell_type": "code",
     "collapsed": false,
     "input": [
      "M = zeros(nT1,2,nVox);\n",
      "for(ii=1:nT1)\n",
      "  correctedFlip = theta(ii).*b1Map(:,b1Inds(ii));\n",
      "  M(ii,1,:) = abs(data(:,ii)./tan(correctedFlip));\n",
      "  M(ii,2,:) = abs(data(:,ii)./sin(correctedFlip));\n",
      "end\n",
      "M0 = mean(M,1);\n",
      "for(ii=1:size(M,1))\n",
      "  M(ii,:,:) = M(ii,:,:) - M0;\n",
      "end"
     ],
     "language": "python",
     "metadata": {},
     "outputs": [
      {
       "metadata": {},
       "output_type": "pyout",
       "prompt_number": 189,
       "text": [
        "0.001"
       ]
      }
     ],
     "prompt_number": 189
    },
    {
     "cell_type": "code",
     "collapsed": false,
     "input": [
      "def test_func(M0, fa, x):\n",
      "    return M0*fa*x"
     ],
     "language": "python",
     "metadata": {},
     "outputs": [],
     "prompt_number": 98
    },
    {
     "cell_type": "code",
     "collapsed": false,
     "input": [
      "def errT1PD(x,flipAngles,tr,S,Gain,B1,M0):\n",
      "    # Estimate the fit of x(1) PD and x(2) T1 to fit the SPGR T1 data with\n",
      "    # different flip angles.\n",
      "    \n",
      "    #Input:\n",
      "    # x - the fitted parameters\n",
      "    # flipAngles - the scans' flip angles \n",
      "    # tr - the scans' tr\n",
      "    # S - the mesured SPGRs images\n",
      "    # Gain - the coil gain (can be also set to be one and fitted later\n",
      "    # B1 - the exsite inhomogenity (the error in nominal flipangles\n",
      "    # lsq - the kind of error calculation\n",
      "    # SD - a way to normalize the error by the data std.\n",
      "    \n",
      "    #OutPut:\n",
      "    # err -the error between the estimation and the data.\n",
      "    fa = ((flipAngles*B1)/180.)*pi\n",
      "    S_fit = M0*fa*x\n",
      "    err=np.sqrt(abs(1/(S-S_fit))) #let fit the median and not the mean that will give less whiat for outlayers\n",
      "\n",
      "    return err"
     ],
     "language": "python",
     "metadata": {},
     "outputs": []
    },
    {
     "cell_type": "code",
     "collapsed": false,
     "input": [
      "import t1_sim"
     ],
     "language": "python",
     "metadata": {},
     "outputs": [
      {
       "ename": "ImportError",
       "evalue": "No module named t1_sim",
       "output_type": "pyerr",
       "traceback": [
        "\u001b[1;31m---------------------------------------------------------------------------\u001b[0m\n\u001b[1;31mImportError\u001b[0m                               Traceback (most recent call last)",
        "\u001b[1;32m<ipython-input-308-e564ca247caa>\u001b[0m in \u001b[0;36m<module>\u001b[1;34m()\u001b[0m\n\u001b[1;32m----> 1\u001b[1;33m \u001b[1;32mimport\u001b[0m \u001b[0mt1_sim\u001b[0m\u001b[1;33m\u001b[0m\u001b[0m\n\u001b[0m",
        "\u001b[1;31mImportError\u001b[0m: No module named t1_sim"
       ]
      }
     ],
     "prompt_number": 308
    },
    {
     "cell_type": "code",
     "collapsed": false,
     "input": [],
     "language": "python",
     "metadata": {},
     "outputs": []
    }
   ],
   "metadata": {}
  }
 ]
}